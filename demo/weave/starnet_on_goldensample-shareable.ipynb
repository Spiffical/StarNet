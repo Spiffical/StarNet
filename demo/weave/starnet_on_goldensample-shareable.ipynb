{
 "cells": [
  {
   "cell_type": "code",
   "execution_count": 1,
   "id": "72b27c71",
   "metadata": {
    "pycharm": {
     "name": "#%%\n"
    }
   },
   "outputs": [],
   "source": [
    "import numpy as np\n",
    "import h5py\n",
    "import random\n",
    "import os\n",
    "import sys\n",
    "import glob\n",
    "import zipfile\n",
    "import time\n",
    "import matplotlib.pyplot as plt\n",
    "import pandas as pd\n",
    "import numpy.ma as ma\n",
    "import scipy\n",
    "import astropy\n",
    "   \n",
    "import torch\n",
    "import torch.nn as nn\n",
    "import torch.nn.functional as F\n",
    "\n",
    "sys.path.insert(0, \"{}/StarNet\".format(os.getenv('HOME')))\n",
    "from startorch.train_starnet import StarNet\n",
    "from startorch.utils import *"
   ]
  },
  {
   "cell_type": "code",
   "execution_count": 2,
   "id": "b7b539a1",
   "metadata": {
    "pycharm": {
     "name": "#%%\n"
    }
   },
   "outputs": [],
   "source": [
    "plt.rcParams['axes.grid']=True\n",
    "plt.rcParams['grid.color']='gray'\n",
    "plt.rcParams['grid.alpha']='0.4'\n",
    "plt.rcParams[\"text.usetex\"] = True"
   ]
  },
  {
   "cell_type": "code",
   "execution_count": 3,
   "id": "bedd448b",
   "metadata": {
    "pycharm": {
     "name": "#%%\n"
    }
   },
   "outputs": [],
   "source": [
    "home = os.getenv('HOME')\n",
    "scratch = os.getenv('SCRATCH')\n",
    "starnet_training_dir = os.path.join(scratch, 'starnettraining')\n",
    "wave_grid_dir = os.path.join(scratch, 'wave_grids')"
   ]
  },
  {
   "cell_type": "code",
   "execution_count": 4,
   "id": "c5beb7c0",
   "metadata": {
    "pycharm": {
     "name": "#%%\n"
    }
   },
   "outputs": [],
   "source": [
    "wave_grid_arms = np.load(os.path.join(wave_grid_dir, 'weave_hr_wavegrid_arms.npy'))"
   ]
  },
  {
   "cell_type": "code",
   "execution_count": 5,
   "id": "ab4129d8",
   "metadata": {
    "pycharm": {
     "name": "#%%\n"
    }
   },
   "outputs": [],
   "source": [
    "# Choose the key in the .h5 file that corresponds to the spectra dataset\n",
    "spec_key = 'spectra_symnorm_nomask99'"
   ]
  },
  {
   "cell_type": "code",
   "execution_count": 6,
   "id": "f5df21ce",
   "metadata": {
    "pycharm": {
     "name": "#%%\n"
    }
   },
   "outputs": [
    {
     "name": "stdout",
     "output_type": "stream",
     "text": [
      "['alpha', 'alpha_rvs', 'class', 'cname', 'feh', 'feh_rvs', 'logg', 'logg_rvs', 'micro', 'spectra_asymnorm', 'spectra_asymnorm_nomask', 'spectra_asymnorm_nomask99', 'spectra_symnorm_nomask99', 'targid', 'teff', 'teff_rvs', 'vrad_rvs', 'vsini_rvs', 'wprov']\n"
     ]
    }
   ],
   "source": [
    "#keys = ['spectra_asymnorm_nomask', 'teff', 'logg', 'feh', 'teff_rvs', 'logg_rvs', 'feh_rvs', 'cname', 'targid']\n",
    "#keys = ['spectra_asymnorm_nomask99', 'teff', 'logg', 'feh', 'teff_rvs', 'logg_rvs', 'feh_rvs', 'cname', 'targid']\n",
    "keys = [spec_key, 'teff', 'logg', 'feh', 'teff_rvs', 'logg_rvs', 'feh_rvs', 'vrad_rvs', 'cname', 'targid']\n",
    "\n",
    "gs_data = {}\n",
    "\n",
    "with h5py.File('/scratch/merileo/spectra/weaveHR_gs_bgr_newasym_wmaskingw99.h5', 'r') as f:\n",
    "    for key in keys:\n",
    "        gs_data[key] = f[key][:]\n",
    "    print(list(f.keys()))"
   ]
  },
  {
   "cell_type": "code",
   "execution_count": 7,
   "id": "4ea78b76",
   "metadata": {
    "pycharm": {
     "name": "#%%\n"
    }
   },
   "outputs": [],
   "source": [
    "def remove_intraccd_gaps(spectrum):\n",
    "    spectrum[22400:23450] = np.random.normal(1, .005, np.shape(spectrum[22400:23450]))\n",
    "    spectrum[34000:35500] = np.random.normal(1, .005, np.shape(spectrum[34000:35500]))\n",
    "    spectrum[8980:9900] = np.random.normal(1, .005, np.shape(spectrum[8980:9900]))\n",
    "\n",
    "    return spectrum"
   ]
  },
  {
   "cell_type": "code",
   "execution_count": 8,
   "id": "197ffb59",
   "metadata": {
    "pycharm": {
     "name": "#%%\n"
    }
   },
   "outputs": [],
   "source": [
    "# Zero out spectra values that meet certain criteria (same as during training)\n",
    "gs_data[spec_key][np.isnan(gs_data[spec_key])] = 0\n",
    "gs_data[spec_key][np.isinf(gs_data[spec_key])] = 0\n",
    "gs_data[spec_key][gs_data[spec_key] > 2] = 0\n",
    "gs_data[spec_key][gs_data[spec_key] < 0] = 0"
   ]
  },
  {
   "cell_type": "code",
   "execution_count": 9,
   "id": "92e6ec90",
   "metadata": {
    "pycharm": {
     "name": "#%%\n"
    }
   },
   "outputs": [],
   "source": [
    "# Remove gaps within the arms\n",
    "for i, x in enumerate(gs_data[spec_key]):\n",
    "    x = remove_intraccd_gaps(x)\n",
    "    gs_data[spec_key][i] = x"
   ]
  },
  {
   "cell_type": "code",
   "execution_count": 10,
   "id": "3229730c",
   "metadata": {
    "pycharm": {
     "name": "#%%\n"
    }
   },
   "outputs": [
    {
     "name": "stdout",
     "output_type": "stream",
     "text": [
      "spectra_symnorm_nomask99\n",
      "teff\n",
      "logg\n",
      "feh\n",
      "teff_rvs\n",
      "logg_rvs\n",
      "feh_rvs\n",
      "vrad_rvs\n",
      "cname\n",
      "targid\n"
     ]
    }
   ],
   "source": [
    "# Truncate the spectra if StarNet was trained with truncated spectra\n",
    "wvl_indices = (wave_grid_arms > 4800) & (wave_grid_arms < 5260)\n",
    "gs_data[spec_key] = gs_data[spec_key][:, wvl_indices]\n",
    "\n",
    "# Determine which spectra have no green arm (the missing arms were filled in with noise),\n",
    "# because these need to be removed if we're using truncated spectra\n",
    "nogreenarm_indices = np.min(gs_data[spec_key], 1) > 0.96\n",
    "for key in gs_data.keys():\n",
    "    gs_data[key] = gs_data[key][~nogreenarm_indices]"
   ]
  },
  {
   "cell_type": "code",
   "execution_count": 11,
   "id": "fd98cbd3",
   "metadata": {
    "pycharm": {
     "name": "#%%\n"
    }
   },
   "outputs": [],
   "source": [
    "# Get indices for different populations of stars\n",
    "mp_cool_indices = (gs_data['feh'] < -1.5) & (gs_data['teff'] < 7000) & (np.abs(gs_data['vrad_rvs']) < 100)\n",
    "mp_cool_giants_indices = (gs_data['feh'] < -1.5) & (gs_data['teff'] < 6000) & (gs_data['logg'] <= 3)\n",
    "mp_cool_dwarfs_indices = (gs_data['feh'] < -1.5) & (gs_data['teff'] < 6000) & (gs_data['logg'] > 3)\n",
    "all_stars = gs_data['feh'] < 500"
   ]
  },
  {
   "cell_type": "code",
   "execution_count": 12,
   "id": "e20f9064",
   "metadata": {
    "pycharm": {
     "name": "#%%\n"
    }
   },
   "outputs": [
    {
     "name": "stdout",
     "output_type": "stream",
     "text": [
      "Number of metal-poor cool stars: 94\n",
      "Number of metal-poor cool giants: 48\n",
      "Number of metal-poor cool dwarfs: 36\n"
     ]
    }
   ],
   "source": [
    "print('Number of metal-poor cool stars: {}'.format(sum(mp_cool_indices)))\n",
    "print('Number of metal-poor cool giants: {}'.format(sum(mp_cool_giants_indices)))\n",
    "print('Number of metal-poor cool dwarfs: {}'.format(sum(mp_cool_dwarfs_indices)))"
   ]
  },
  {
   "cell_type": "code",
   "execution_count": 13,
   "id": "0bd77e20",
   "metadata": {
    "pycharm": {
     "name": "#%%\n"
    }
   },
   "outputs": [],
   "source": [
    "# Choose the stars to test on\n",
    "chosen_stars = mp_cool_indices"
   ]
  },
  {
   "cell_type": "code",
   "execution_count": 14,
   "id": "51a7bc36",
   "metadata": {
    "pycharm": {
     "name": "#%%\n"
    }
   },
   "outputs": [
    {
     "data": {
      "text/plain": [
       "XTENSION= 'BINTABLE'           / binary table extension                         \n",
       "BITPIX  =                    8 / 8-bit bytes                                    \n",
       "NAXIS   =                    2 / 2-dimensional table                            \n",
       "NAXIS1  =                  624 / width of table in bytes                        \n",
       "NAXIS2  =                11012 / number of rows in table                        \n",
       "PCOUNT  =                    0 / size of special data area                      \n",
       "GCOUNT  =                    1 / one data group                                 \n",
       "TFIELDS =                   73 / number of columns                              \n",
       "EXTNAME = 'Joined  '           / table name                                     \n",
       "TTYPE1  = 'OBID    '           / label for column 1                             \n",
       "TFORM1  = 'K       '           / format for column 1                            \n",
       "TTYPE2  = 'NAME    '           / label for column 2                             \n",
       "TFORM2  = '18A     '           / format for column 2                            \n",
       "TTYPE3  = 'MODE    '           / label for column 3                             \n",
       "TFORM3  = '7A      '           / format for column 3                            \n",
       "TTYPE4  = 'PTYPE   '           / label for column 4                             \n",
       "TFORM4  = '5A      '           / format for column 4                            \n",
       "TTYPE5  = 'NARMS   '           / label for column 5                             \n",
       "TFORM5  = 'K       '           / format for column 5                            \n",
       "TTYPE6  = 'FILENB_1'           / label for column 6                             \n",
       "TFORM6  = '7A      '           / format for column 6                            \n",
       "TTYPE7  = 'CAMERA_1'           / label for column 7                             \n",
       "TFORM7  = '9A      '           / format for column 7                            \n",
       "TTYPE8  = 'FILENB_2'           / label for column 8                             \n",
       "TFORM8  = '7A      '           / format for column 8                            \n",
       "TTYPE9  = 'CAMERA_2'           / label for column 9                             \n",
       "TFORM9  = '8A      '           / format for column 9                            \n",
       "TTYPE10 = 'VPH     '           / label for column 10                            \n",
       "TFORM10 = '8A      '           / format for column 10                           \n",
       "TTYPE11 = 'BINFACT '           / label for column 11                            \n",
       "TFORM11 = 'K       '           / format for column 11                           \n",
       "TTYPE12 = 'TARGID  '           / label for column 12                            \n",
       "TFORM12 = '30A     '           / format for column 12                           \n",
       "TTYPE13 = 'CNAME   '           / label for column 13                            \n",
       "TFORM13 = '20A     '           / format for column 13                           \n",
       "TTYPE14 = 'FIBREID '           / label for column 14                            \n",
       "TFORM14 = 'I       '           / format for column 14                           \n",
       "TTYPE15 = 'NSPEC   '           / label for column 15                            \n",
       "TFORM15 = 'I       '           / format for column 15                           \n",
       "TTYPE16 = 'TARGSRVY'           / label for column 16                            \n",
       "TFORM16 = '15A     '           / format for column 16                           \n",
       "TTYPE17 = 'TARGPROG'           / label for column 17                            \n",
       "TFORM17 = '15A     '           / format for column 17                           \n",
       "TTYPE18 = 'TARGRA  '           / label for column 18                            \n",
       "TFORM18 = 'D       '           / format for column 18                           \n",
       "TTYPE19 = 'TARGDEC '           / label for column 19                            \n",
       "TFORM19 = 'D       '           / format for column 19                           \n",
       "TTYPE20 = 'MAG_G   '           / label for column 20                            \n",
       "TFORM20 = 'E       '           / format for column 20                           \n",
       "TTYPE21 = 'MAG_R   '           / label for column 21                            \n",
       "TFORM21 = 'E       '           / format for column 21                           \n",
       "TTYPE22 = 'MAG_I   '           / label for column 22                            \n",
       "TFORM22 = 'E       '           / format for column 22                           \n",
       "TTYPE23 = 'MAG_GG  '           / label for column 23                            \n",
       "TFORM23 = 'E       '           / format for column 23                           \n",
       "TTYPE24 = 'MAG_BP  '           / label for column 24                            \n",
       "TFORM24 = 'E       '           / format for column 24                           \n",
       "TTYPE25 = 'MAG_RP  '           / label for column 25                            \n",
       "TFORM25 = 'E       '           / format for column 25                           \n",
       "TTYPE26 = 'RMS_ARC1'           / label for column 26                            \n",
       "TFORM26 = 'D       '           / format for column 26                           \n",
       "TTYPE27 = 'RMS_ARC2'           / label for column 27                            \n",
       "TFORM27 = 'D       '           / format for column 27                           \n",
       "TTYPE28 = 'WAVE_COR1'          / label for column 28                            \n",
       "TFORM28 = 'D       '           / format for column 28                           \n",
       "TTYPE29 = 'WAVE_COR2'          / label for column 29                            \n",
       "TFORM29 = 'D       '           / format for column 29                           \n",
       "TTYPE30 = 'SKYLINE_OFF1'       / label for column 30                            \n",
       "TFORM30 = 'D       '           / format for column 30                           \n",
       "TTYPE31 = 'SKYLINE_OFF2'       / label for column 31                            \n",
       "TFORM31 = 'D       '           / format for column 31                           \n",
       "TTYPE32 = 'RESOL   '           / label for column 32                            \n",
       "TFORM32 = 'E       '           / format for column 32                           \n",
       "TTYPE33 = 'SNR_CASU'           / label for column 33                            \n",
       "TFORM33 = 'E       '           / format for column 33                           \n",
       "TTYPE34 = 'SKYBRGHT'           / label for column 34                            \n",
       "TFORM34 = 'D       '           / format for column 34                           \n",
       "TTYPE35 = 'AIRMASS '           / label for column 35                            \n",
       "TFORM35 = 'D       '           / format for column 35                           \n",
       "TTYPE36 = 'SEEING  '           / label for column 36                            \n",
       "TFORM36 = 'D       '           / format for column 36                           \n",
       "TTYPE37 = 'SNR_blue_QAG'       / label for column 37                            \n",
       "TFORM37 = 'D       '           / format for column 37                           \n",
       "TTYPE38 = 'SNR_green_QAG'      / label for column 38                            \n",
       "TFORM38 = 'D       '           / format for column 38                           \n",
       "TTYPE39 = 'SNR_red_QAG'        / label for column 39                            \n",
       "TFORM39 = 'D       '           / format for column 39                           \n",
       "TTYPE40 = 'VRAD_RVS'           / label for column 40                            \n",
       "TFORM40 = 'D       '           / format for column 40                           \n",
       "TTYPE41 = 'VRAD_ERR_RVS'       / label for column 41                            \n",
       "TFORM41 = 'D       '           / format for column 41                           \n",
       "TTYPE42 = 'VRAD_SKE_RVS'       / label for column 42                            \n",
       "TFORM42 = 'D       '           / format for column 42                           \n",
       "TTYPE43 = 'VRAD_KUR_RVS'       / label for column 43                            \n",
       "TFORM43 = 'D       '           / format for column 43                           \n",
       "TTYPE44 = 'LOGG_RVS'           / label for column 44                            \n",
       "TFORM44 = 'D       '           / format for column 44                           \n",
       "TTYPE45 = 'TEFF_RVS'           / label for column 45                            \n",
       "TFORM45 = 'D       '           / format for column 45                           \n",
       "TTYPE46 = 'VSINI_RVS'          / label for column 46                            \n",
       "TFORM46 = 'D       '           / format for column 46                           \n",
       "TTYPE47 = 'FEH_RVS '           / label for column 47                            \n",
       "TFORM47 = 'D       '           / format for column 47                           \n",
       "TTYPE48 = 'ALPHA_RVS'          / label for column 48                            \n",
       "TFORM48 = 'D       '           / format for column 48                           \n",
       "TTYPE49 = 'LOGG_RVS_ERR'       / label for column 49                            \n",
       "TFORM49 = 'D       '           / format for column 49                           \n",
       "TTYPE50 = 'TEFF_RVS_ERR'       / label for column 50                            \n",
       "TFORM50 = 'D       '           / format for column 50                           \n",
       "TTYPE51 = 'FEH_RVS_ERR'        / label for column 51                            \n",
       "TFORM51 = 'D       '           / format for column 51                           \n",
       "TTYPE52 = 'ALPHA_RVS_ERR'      / label for column 52                            \n",
       "TFORM52 = 'D       '           / format for column 52                           \n",
       "TTYPE53 = 'CHISQ_TOT_RVS'      / label for column 53                            \n",
       "TFORM53 = 'D       '           / format for column 53                           \n",
       "TTYPE54 = 'SNR_FERRE'          / label for column 54                            \n",
       "TFORM54 = 'D       '           / format for column 54                           \n",
       "TTYPE55 = 'TEFF_FERRE'         / label for column 55                            \n",
       "TFORM55 = 'D       '           / format for column 55                           \n",
       "TTYPE56 = 'TEFF_ERR_FERRE'     / label for column 56                            \n",
       "TFORM56 = 'D       '           / format for column 56                           \n",
       "TTYPE57 = 'LOGG_FERRE'         / label for column 57                            \n",
       "TFORM57 = 'D       '           / format for column 57                           \n",
       "TTYPE58 = 'LOGG_ERR_FERRE'     / label for column 58                            \n",
       "TFORM58 = 'D       '           / format for column 58                           \n",
       "TTYPE59 = 'FEH_FERRE'          / label for column 59                            \n",
       "TFORM59 = 'D       '           / format for column 59                           \n",
       "TTYPE60 = 'FEH_ERR_FERRE'      / label for column 60                            \n",
       "TFORM60 = 'D       '           / format for column 60                           \n",
       "TTYPE61 = 'ALPHA_FERRE'        / label for column 61                            \n",
       "TFORM61 = 'D       '           / format for column 61                           \n",
       "TTYPE62 = 'ALPHA_ERR_FERRE'    / label for column 62                            \n",
       "TFORM62 = 'D       '           / format for column 62                           \n",
       "TTYPE63 = 'MICRO_FERRE'        / label for column 63                            \n",
       "TFORM63 = 'D       '           / format for column 63                           \n",
       "TTYPE64 = 'MICRO_ERR_FERRE'    / label for column 64                            \n",
       "TFORM64 = 'D       '           / format for column 64                           \n",
       "TTYPE65 = 'COVAR_FERRE'        / label for column 65                            \n",
       "TFORM65 = 'D       '           / format for column 65                           \n",
       "TTYPE66 = 'CHISQ_TOT_FERRE'    / label for column 66                            \n",
       "TFORM66 = 'D       '           / format for column 66                           \n",
       "TTYPE67 = 'FLAG_FERRE'         / label for column 67                            \n",
       "TFORM67 = 'K       '           / format for column 67                           \n",
       "TTYPE68 = 'input_template'     / label for column 68                            \n",
       "TFORM68 = '43A     '           / format for column 68                           \n",
       "TTYPE69 = 'TEFF_INPUT'         / label for column 69                            \n",
       "TFORM69 = 'D       '           / format for column 69                           \n",
       "TTYPE70 = 'LOGG_INPUT'         / label for column 70                            \n",
       "TFORM70 = 'D       '           / format for column 70                           \n",
       "TTYPE71 = 'MH_INPUT'           / label for column 71                            \n",
       "TFORM71 = 'D       '           / format for column 71                           \n",
       "TTYPE72 = 'ALPHA_INPUT'        / label for column 72                            \n",
       "TFORM72 = 'D       '           / format for column 72                           \n",
       "TTYPE73 = 'VRAD_INPUT'         / label for column 73                            \n",
       "TFORM73 = 'E       '           / format for column 73                           \n",
       "DATE-HDU= '2021-05-19T10:44:35' / Date of HDU creation (UTC)                    \n",
       "STILVERS= '4.0     '           / Version of STIL software                       \n",
       "STILCLAS= 'uk.ac.starlink.fits.FitsTableWriter' / STIL Author class             "
      ]
     },
     "execution_count": 14,
     "metadata": {},
     "output_type": "execute_result"
    }
   ],
   "source": [
    "# Load the Golden Sample master table\n",
    "hdu = fits.open('GA-QAG_OPR3bv3_MasterTableCodev4_GoldenSample_RELEASE.fits', memmap=True)\n",
    "hdu[1].header"
   ]
  },
  {
   "cell_type": "code",
   "execution_count": 15,
   "id": "4aad0e79",
   "metadata": {
    "pycharm": {
     "name": "#%%\n"
    }
   },
   "outputs": [],
   "source": [
    "# Collect the input stellar parameters for the Golden Sample\n",
    "teff_input = []\n",
    "logg_input = []\n",
    "feh_input = []\n",
    "alpha_input = []\n",
    "vrad_input = []\n",
    "snr_input = []\n",
    "for i in range(sum(chosen_stars)):\n",
    "    inds = np.where(hdu[1].data['CNAME'] == gs_data['cname'][chosen_stars][i].decode('UTF-8'))[0]\n",
    "    if len(inds) > 0:\n",
    "        t = hdu[1].data['TEFF_INPUT'][inds][0]\n",
    "        g = hdu[1].data['LOGG_INPUT'][inds][0]\n",
    "        f = hdu[1].data['MH_INPUT'][inds][0]\n",
    "        a = hdu[1].data['ALPHA_INPUT'][inds][0]\n",
    "        v = hdu[1].data['VRAD_INPUT'][inds][0]\n",
    "        snr = hdu[1].data['SNR_CASU'][inds][0]\n",
    "    else:\n",
    "        t = np.nan\n",
    "        g = np.nan\n",
    "        f = np.nan\n",
    "        a = np.nan\n",
    "        v = np.nan\n",
    "        snr = np.nan\n",
    "    teff_input.append(t)\n",
    "    logg_input.append(g)\n",
    "    feh_input.append(f)\n",
    "    alpha_input.append(a)\n",
    "    vrad_input.append(v)\n",
    "    snr_input.append(snr)"
   ]
  },
  {
   "cell_type": "code",
   "execution_count": 16,
   "id": "22d62d24",
   "metadata": {
    "pycharm": {
     "name": "#%%\n"
    }
   },
   "outputs": [],
   "source": [
    "# Acquire paths of ensemble of trained models\n",
    "\n",
    "#folder = 'starnet_emulator_weave_hyperparamsearch_newasym_n50k'\n",
    "#folder = 'starnet_emulator_weave_hyperparamsearch_newasym_nomasking_n100k'\n",
    "#folder = 'weave-ambre_optimize_teffloggfehvradvsini_nomask_spl99_n100k'\n",
    "#folder = 'weave-ferre_optimize_teffloggfehamvradvsini_nomask_spl99_n40k'\n",
    "#folder = 'weave-ambre_optimize_teffloggfehvradvsini_nomask_spl99sym_n100k'\n",
    "#folder = 'starnet_emulator_weave-ambre_optimize_teffloggfeh_nomask_n50k'\n",
    "#folder = 'starnet_emulator_weave_hyperparamsearch_newasym_nomasking'\n",
    "#folder = 'weaveHR-ferre_opt_nomask_spl99sym_maskarms_n40k'\n",
    "#folder = 'weaveHR-ambrenovrot_spl99sym_maskarmsgapsnoise_n20k'\n",
    "folder = 'weaveHR-ambre_spl99symnoise_n20k_wvl4800-5260'\n",
    "#folder = 'weaveHR-ambrenovrad_spl99sym_n9k_maskarmsgapsnoise'\n",
    "#folder = 'weaveHR-ambre_spl99sym_n80k_noisegaps'\n",
    "trained_models = glob.glob(os.path.join(starnet_training_dir, folder + '/*'))"
   ]
  },
  {
   "cell_type": "code",
   "execution_count": 17,
   "id": "aaef607d",
   "metadata": {
    "pycharm": {
     "name": "#%%\n"
    }
   },
   "outputs": [
    {
     "name": "stdout",
     "output_type": "stream",
     "text": [
      "0.013499976135790348\n",
      "0.010257888585329056\n",
      "0.009654571302235126\n"
     ]
    }
   ],
   "source": [
    "best_val_loss = 9999\n",
    "for model_folder in trained_models:\n",
    "    try:\n",
    "        loss_hist = np.loadtxt(os.path.join(model_folder, 'train_hist.txt'), dtype=float, delimiter=',')\n",
    "    except OSError:\n",
    "        continue\n",
    "    if len(loss_hist.shape) > 1:\n",
    "        min_val_loss = min(loss_hist[:,1])\n",
    "    else:\n",
    "        min_val_loss = loss_hist[1]\n",
    "    if min_val_loss < best_val_loss:\n",
    "        best_val_loss = min_val_loss\n",
    "        print(best_val_loss)\n",
    "        best_model_folder = model_folder"
   ]
  },
  {
   "cell_type": "code",
   "execution_count": 18,
   "id": "b24303db",
   "metadata": {
    "pycharm": {
     "name": "#%%\n"
    }
   },
   "outputs": [],
   "source": [
    "best_model = os.path.join(best_model_folder, 'model_best.pth')\n",
    "mean, std = np.load(os.path.join(best_model_folder, 'mean_std_params.npy'))\n",
    "targets = ['logg','teff','m_h']"
   ]
  },
  {
   "cell_type": "code",
   "execution_count": 19,
   "id": "d268ec44",
   "metadata": {
    "pycharm": {
     "name": "#%%\n"
    }
   },
   "outputs": [
    {
     "data": {
      "text/plain": [
       "StarNet(\n",
       "  (feature_extractor): Sequential(\n",
       "    (0): Conv1d(1, 4, kernel_size=(4,), stride=(1,))\n",
       "    (1): ReLU()\n",
       "    (2): Conv1d(4, 16, kernel_size=(4,), stride=(1,))\n",
       "    (3): ReLU()\n",
       "    (4): MaxPool1d(kernel_size=4, stride=1, padding=0, dilation=1, ceil_mode=False)\n",
       "  )\n",
       "  (fc): Sequential(\n",
       "    (0): Linear(in_features=147056, out_features=256, bias=True)\n",
       "    (1): ReLU()\n",
       "    (2): Linear(in_features=256, out_features=128, bias=True)\n",
       "    (3): ReLU()\n",
       "    (4): Linear(in_features=128, out_features=3, bias=True)\n",
       "  )\n",
       ")"
      ]
     },
     "execution_count": 19,
     "metadata": {},
     "output_type": "execute_result"
    }
   ],
   "source": [
    "# Initializing the emulator\n",
    "NN = StarNet(1, len(targets), (1, len(gs_data[spec_key][chosen_stars][0]))).to('cuda:0')\n",
    "NN.load_state_dict(torch.load(best_model))\n",
    "NN.eval()"
   ]
  },
  {
   "cell_type": "code",
   "execution_count": 20,
   "id": "7f122653",
   "metadata": {
    "scrolled": true,
    "pycharm": {
     "name": "#%%\n"
    }
   },
   "outputs": [],
   "source": [
    "batch = 100\n",
    "predictions = []"
   ]
  },
  {
   "cell_type": "code",
   "execution_count": 21,
   "id": "882ec7fe",
   "metadata": {
    "pycharm": {
     "name": "#%%\n"
    }
   },
   "outputs": [],
   "source": [
    "for i in range(0, len(gs_data[spec_key][chosen_stars]), batch):\n",
    "    X_torch = torch.from_numpy(gs_data[spec_key][chosen_stars][i:i+batch]).to('cuda:0')\n",
    "    X_torch = X_torch.float().view(-1, 1, np.shape(gs_data[spec_key])[1])\n",
    "    temp_pred = NN(X_torch).detach().cpu().numpy()*std+mean\n",
    "    predictions.extend(temp_pred)\n",
    "predictions = np.asarray(predictions)"
   ]
  },
  {
   "cell_type": "code",
   "execution_count": 22,
   "id": "cebfc241",
   "metadata": {
    "pycharm": {
     "name": "#%%\n"
    }
   },
   "outputs": [],
   "source": [
    "all_pred = {}\n",
    "\n",
    "for i, target in enumerate(targets):\n",
    "    all_pred[target] = predictions[:,i]"
   ]
  },
  {
   "cell_type": "code",
   "execution_count": 23,
   "id": "56f7c5d6",
   "metadata": {
    "pycharm": {
     "name": "#%%\n"
    }
   },
   "outputs": [
    {
     "data": {
      "image/png": "[encoded data removed]",
      "text/plain": [
       "<Figure size 720x504 with 3 Axes>"
      ]
     },
     "metadata": {
      "needs_background": "light"
     },
     "output_type": "display_data"
    }
   ],
   "source": [
    "%matplotlib inline\n",
    "\n",
    "fig, axes = plt.subplots(3, 1, figsize=(10, 7))\n",
    "\n",
    "# Plot teff\n",
    "axes[0].scatter(teff_input, \n",
    "                all_pred['teff'] - teff_input, \n",
    "                alpha=0.5, s=5, zorder=1, c='black')\n",
    "axes[0].set_xlabel('Teff', size=14)\n",
    "axes[0].set_ylim((-1000, 1000))\n",
    "axes[0].set_xlim((4000, 8300))\n",
    "axes[0].axhline(0, linewidth=2, c='black', linestyle='--')\n",
    "\n",
    "# Plot logg\n",
    "axes[1].scatter(logg_input, \n",
    "                all_pred['logg'] - logg_input, \n",
    "                alpha=0.5, s=5, zorder=1, c='black')\n",
    "axes[1].set_xlabel('logg', size=14)\n",
    "axes[1].set_ylabel('StarNet(AMBRE) - INPUT', size=14)\n",
    "axes[1].set_ylim((-1.8, 1.8))\n",
    "axes[1].set_xlim((0, 6))\n",
    "axes[1].axhline(0, linewidth=2, c='black', linestyle='--')\n",
    "\n",
    "# Plot feh\n",
    "axes[2].scatter(feh_input, \n",
    "                all_pred['m_h'] - feh_input, \n",
    "                alpha=0.5, s=5, zorder=1, c='black')\n",
    "axes[2].set_xlabel('[Fe/H]', size=14)\n",
    "axes[2].set_ylim((-1.8, 1.8))\n",
    "axes[2].set_xlim((-5, 0.6))\n",
    "axes[2].axhline(0, linewidth=2, c='black', linestyle='--')\n",
    "\n",
    "plt.tight_layout()"
   ]
  },
  {
   "cell_type": "code",
   "execution_count": null,
   "id": "bd69372d",
   "metadata": {
    "pycharm": {
     "name": "#%%\n"
    }
   },
   "outputs": [],
   "source": []
  }
 ],
 "metadata": {
  "kernelspec": {
   "display_name": "Python 3.7 vissl kernel",
   "language": "python",
   "name": "vissl"
  },
  "language_info": {
   "codemirror_mode": {
    "name": "ipython",
    "version": 3
   },
   "file_extension": ".py",
   "mimetype": "text/x-python",
   "name": "python",
   "nbconvert_exporter": "python",
   "pygments_lexer": "ipython3",
   "version": "3.7.9"
  }
 },
 "nbformat": 4,
 "nbformat_minor": 5
}