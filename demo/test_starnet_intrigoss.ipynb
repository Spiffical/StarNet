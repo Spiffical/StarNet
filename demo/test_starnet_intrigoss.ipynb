{
 "cells": [
  {
   "cell_type": "code",
   "execution_count": 2,
   "metadata": {},
   "outputs": [],
   "source": [
    "import sys, os\n",
    "sys.path.insert(0, \"{}/StarNet\".format(os.getenv('HOME')))\n",
    "import numpy as np\n",
    "import h5py\n",
    "import random\n",
    "import matplotlib\n",
    "import pandas as pd\n",
    "import csv\n",
    "import matplotlib.pyplot as plt\n",
    "import matplotlib.gridspec as gridspec\n",
    "import seaborn as sns\n",
    "import json\n",
    "from starnet.data.utilities.data_augmentation import continuum_normalize, mask_tellurics, add_zeros, convolve_spectrum\n",
    "from starnet.gaiaESO.plotting import plot_compare_estimates_resid\n",
    "from starnet.data.utilities.load_data import load_data_from_h5 \n",
    "from starnet.nn.models.cnn_models import StarNet2017, StarNet2017DeepEnsemble\n",
    "from starnet.nn.utilities.custom_layers import GaussianLayer\n",
    "from keras.models import load_model, Model\n",
    "from astropy.io import fits as pyfits"
   ]
  },
  {
   "cell_type": "code",
   "execution_count": null,
   "metadata": {},
   "outputs": [],
   "source": []
  }
 ],
 "metadata": {
  "kernelspec": {
   "display_name": "Python 3",
   "language": "python",
   "name": "python3"
  },
  "language_info": {
   "codemirror_mode": {
    "name": "ipython",
    "version": 3
   },
   "file_extension": ".py",
   "mimetype": "text/x-python",
   "name": "python",
   "nbconvert_exporter": "python",
   "pygments_lexer": "ipython3",
   "version": "3.6.3"
  }
 },
 "nbformat": 4,
 "nbformat_minor": 2
}
