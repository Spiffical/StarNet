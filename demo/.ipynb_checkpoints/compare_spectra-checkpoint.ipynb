{
 "cells": [
  {
   "cell_type": "code",
   "execution_count": 3,
   "metadata": {},
   "outputs": [],
   "source": [
    "import numpy as np\n",
    "import h5py\n",
    "from astropy.io import fits as pyfits"
   ]
  },
  {
   "cell_type": "code",
   "execution_count": null,
   "metadata": {},
   "outputs": [],
   "source": []
  },
  {
   "cell_type": "code",
   "execution_count": 32,
   "metadata": {},
   "outputs": [],
   "source": [
    "def get_phoenix_fitsname(teff, logg, feh, afe):\n",
    "\n",
    "    # Construct the full Phoenix .fits file name from stellar parameters\n",
    "    #if feh>0.:\n",
    "    #    folder= 'Z+{}.{}'.format(int(feh),('%.1f' % (feh % 1))[2:3])\n",
    "    #elif feh<=0.:\n",
    "    #    folder= 'Z-{}.{}'.format(int(feh),('%.1f' % (-feh % 1))[2:4])\n",
    "        \n",
    "    str_teff = 'lte{:05d}'.format(teff)\n",
    "    str_logg = '-{:03.2f}'.format(logg)\n",
    "    str_feh = '{:02.1f}'.format(feh)\n",
    "    if feh>0: \n",
    "        str_feh = '+' + str_feh\n",
    "        \n",
    "    if afe == 0:\n",
    "        str_afe = ''\n",
    "    elif afe < 0:\n",
    "        str_afe = '.Alpha={:03.2f}'.format(afe)\n",
    "    elif afe > 0:\n",
    "        str_afe = '.Alpha=+{:03.2f}'.format(afe)\n",
    "\n",
    "    filename = '{}{}{}{}.PHOENIX-ACES-AGSS-COND-2011-HiRes.fits'.format(str_teff, str_logg, str_feh, str_afe)\n",
    "\n",
    "    return filename"
   ]
  },
  {
   "cell_type": "code",
   "execution_count": 6,
   "metadata": {},
   "outputs": [],
   "source": [
    "def find_closest_phoenix_match(teff, logg, feh, afe):\n",
    "\n",
    "    # INTRIGOSS grid spacing\n",
    "    teff_grid = np.arange(3750, 7001, 250)\n",
    "    logg_grid = np.arange(0.5, 5.1, 0.5)\n",
    "    feh_grid = np.arange(-1.0, 0.51, 0.25)\n",
    "    afe_grid = np.arange(-0.25, 0.51, 0.25) \n",
    "\n",
    "    # Find closest parameter values\n",
    "    match_teff = teff_grid[np.argmin(np.abs(teff - teff_grid))]\n",
    "    match_logg = logg_grid[np.argmin(np.abs(logg - logg_grid))]\n",
    "    match_feh = feh_grid[np.argmin(np.abs(feh - feh_grid))]\n",
    "    match_afe = afe_grid[np.argmin(np.abs(afe - afe_grid))]\n",
    "\n",
    "    return match_teff, match_logg, match_feh, match_afe"
   ]
  },
  {
   "cell_type": "code",
   "execution_count": 7,
   "metadata": {},
   "outputs": [],
   "source": [
    "def get_phoenix_spectrum(path):\n",
    "    \n",
    "    hdulist = pyfits.open(path)\n",
    "    flux = hdulist[0].data\n",
    "    wav = flux_data['wavelength']\n",
    "    flux = flux_data['surface_flux']\n",
    "    \n",
    "    return wav, flux"
   ]
  },
  {
   "cell_type": "code",
   "execution_count": 14,
   "metadata": {},
   "outputs": [],
   "source": [
    "def get_intrigoss_fitsname(teff, logg, feh, afe):\n",
    "    \n",
    "    # Construct the full INTRIGOSS .fits file name from stellar parameters\n",
    "    if feh>0.:\n",
    "        str_feh= 'ap{}{}'.format(int(feh),('%.2f' % (feh % 1))[2:4])\n",
    "    elif feh<0.:\n",
    "        str_feh= 'am{}{}'.format(int(-feh),('%.2f' % (-feh % 1))[2:4])\n",
    "    else:\n",
    "        str_feh= 'ap000'\n",
    "    if afe>0.:\n",
    "        str_afe= 'alpp{}{}'.format(int(afe),('%.2f' % (afe % 1))[2:4])\n",
    "    elif afe<0.:\n",
    "        str_afe= 'alpm{}{}'.format(int(-afe),('%.2f' % (-afe % 1))[2:4])\n",
    "    else:\n",
    "        str_afe= 'alpp000'\n",
    "    str_logg = 'g%i%i' % (int(logg),int(round((logg % 1)*10.)))\n",
    "    filename = '{}_{}_t{}{}_v1_f.fits'.format(str_afe, str_feh, teff, str_logg)\n",
    "    \n",
    "    return filename"
   ]
  },
  {
   "cell_type": "code",
   "execution_count": 9,
   "metadata": {},
   "outputs": [],
   "source": [
    "def find_closest_intrigoss_match(teff, logg, feh, afe):\n",
    "    # INTRIGOSS grid spacing\n",
    "    teff_grid = np.arange(3750, 7001, 250)\n",
    "    logg_grid = np.arange(0.5, 5.1, 0.5)\n",
    "    feh_grid = np.arange(-1.0, 0.51, 0.25)\n",
    "    afe_grid = np.arange(-0.25, 0.51, 0.25) \n",
    "    \n",
    "    # Find closest parameter values\n",
    "    match_teff = teff_grid[np.argmin(np.abs(teff - teff_grid))]\n",
    "    match_logg = logg_grid[np.argmin(np.abs(logg - logg_grid))]\n",
    "    match_feh = feh_grid[np.argmin(np.abs(feh - feh_grid))]\n",
    "    match_afe = afe_grid[np.argmin(np.abs(afe - afe_grid))]\n",
    "    \n",
    "    return match_teff, match_logg, match_feh, match_afe"
   ]
  },
  {
   "cell_type": "code",
   "execution_count": 10,
   "metadata": {},
   "outputs": [],
   "source": [
    "def get_intrigoss_spectrum(path):\n",
    "    hdulist = pyfits.open(path)\n",
    "    flux_data = hdulist[1].data\n",
    "    param_data = hdulist[0].header\n",
    "    wav = flux_data['wavelength']\n",
    "    flux = flux_data['surface_flux']\n",
    "    \n",
    "    return wav, flux"
   ]
  },
  {
   "cell_type": "code",
   "execution_count": 33,
   "metadata": {},
   "outputs": [
    {
     "data": {
      "text/plain": [
       "'lte15000-0.50-0.5.Alpha=-1.20.PHOENIX-ACES-AGSS-COND-2011-HiRes.fits'"
      ]
     },
     "execution_count": 33,
     "metadata": {},
     "output_type": "execute_result"
    }
   ],
   "source": [
    "get_phoenix_fitsname(15000, 0.5, -0.5, -1.2)"
   ]
  },
  {
   "cell_type": "code",
   "execution_count": null,
   "metadata": {},
   "outputs": [],
   "source": [
    "lte15000-4.50-0.5.Alpha=+1.20.PHOENIX-ACES-AGSS-COND-2011-HiRes.fits"
   ]
  }
 ],
 "metadata": {
  "kernelspec": {
   "display_name": "Python 2",
   "language": "python",
   "name": "python2"
  },
  "language_info": {
   "codemirror_mode": {
    "name": "ipython",
    "version": 2
   },
   "file_extension": ".py",
   "mimetype": "text/x-python",
   "name": "python",
   "nbconvert_exporter": "python",
   "pygments_lexer": "ipython2",
   "version": "2.7.16"
  }
 },
 "nbformat": 4,
 "nbformat_minor": 2
}
